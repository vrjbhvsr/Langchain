{
 "cells": [
  {
   "cell_type": "markdown",
   "id": "9242d70f",
   "metadata": {},
   "source": [
    "# 📘 Topic: Deep dive into Langchain- Models\n",
    "\n",
    "\n",
    "## 🎯 Objective\n",
    "* Understanding models in Langchain\n",
    "\n"
   ]
  },
  {
   "cell_type": "markdown",
   "id": "6c036836",
   "metadata": {},
   "source": [
    "### Models\n",
    "\n",
    "Models are nothing but the brain of the agents, that does easy to complex tasks. These models are LLMs, which are powerful to understand and interprete human language and reason like human does. They are capable to:\n",
    "\n",
    "- Write content\n",
    "- Answer question\n",
    "- summarize information\n",
    "- Translate languages\n",
    "\n",
    "These models do not required any task specific training, the way traditional machine learning model required."
   ]
  },
  {
   "cell_type": "markdown",
   "id": "b968bc27",
   "metadata": {},
   "source": [
    "### Initializing the models"
   ]
  },
  {
   "cell_type": "code",
   "execution_count": null,
   "id": "83845106",
   "metadata": {},
   "outputs": [
    {
     "name": "stderr",
     "output_type": "stream",
     "text": [
      "/home/vraj/Langchain/.venv/lib/python3.12/site-packages/tqdm/auto.py:21: TqdmWarning: IProgress not found. Please update jupyter and ipywidgets. See https://ipywidgets.readthedocs.io/en/stable/user_install.html\n",
      "  from .autonotebook import tqdm as notebook_tqdm\n"
     ]
    }
   ],
   "source": [
    "# To initialise a chat model using langchain, init_chat_model function is used. It takes model name and other parameters as input and returns the chat model object.\n",
    "\n",
    "from langchain.chat_models import init_chat_model, chatOpen\n",
    "from dotenv import load_dotenv\n",
    "\n",
    "# the next step is to define the API key for the model. Most of the models require API key, which are close-source, to take the benefit of their capabilities\n",
    "\n",
    "# Load environment variables from .env file\n",
    "load_dotenv() # I have stored my API keys in .env file. so using load_dotenv() to load them into environment variables.\n",
    "\n",
    "chat_model = init_chat_model(\"openai:gpt-4.1\")"
   ]
  },
  {
   "cell_type": "code",
   "execution_count": null,
   "id": "12c75d9e",
   "metadata": {},
   "outputs": [],
   "source": []
  }
 ],
 "metadata": {
  "kernelspec": {
   "display_name": ".venv",
   "language": "python",
   "name": "python3"
  },
  "language_info": {
   "codemirror_mode": {
    "name": "ipython",
    "version": 3
   },
   "file_extension": ".py",
   "mimetype": "text/x-python",
   "name": "python",
   "nbconvert_exporter": "python",
   "pygments_lexer": "ipython3",
   "version": "3.12.3"
  }
 },
 "nbformat": 4,
 "nbformat_minor": 5
}
