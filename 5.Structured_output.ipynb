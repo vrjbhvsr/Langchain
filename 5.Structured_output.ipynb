{
 "cells": [
  {
   "cell_type": "markdown",
   "id": "23f79441",
   "metadata": {},
   "source": [
    "# 📘 Topic: Deep dive into Langchain- Strucutred Output\n",
    "\n",
    "\n",
    "\n",
    "## 🎯 Objective\n",
    "###  Understanding structured Output and Output Parsers\n"
   ]
  },
  {
   "cell_type": "markdown",
   "id": "7b8898e0",
   "metadata": {},
   "source": [
    "### 🔶 What is Structure Output?\n",
    "\n",
    "* Usually, when we get the output in the chat(from LLM) is appearing in term of text, meaning it's not stored in specific format.\n",
    "\n",
    "* Structured Output is the LLM output that is in well-defined data format, such as JSON.\n",
    "\n",
    "* This help, when we send our output to another LLM to perform related task. In agentic AI, The output of an LLM can be input of the another LLM to solve the task, this case is a very good example of why we need output in specific structured format\n",
    "\n",
    "####  Structured output allows agents to return data in a specific, predictable format. Instead of parsing natural language responses, you get structured data in the form of JSON objects, Pydantic models, or dataclasses that your application can directly use. -LangchainDocs\n",
    "\n",
    "### 🔶 Use Cases:\n",
    "\n",
    "1. Data Extraction - When we need to store the output of the LLM into database, such as candidates information from the resume.\n",
    "\n",
    "2. Knowledge graph or Scene Graph creation - to connect nodes to edges in scene graph, structured output helps.\n",
    "\n",
    "3. Multi-Agent communications\n",
    "\n",
    "4. function or tool calling\n",
    "\n",
    "#### 🔵 Some LLM providers can respond in structured format, and some cannot.\n",
    "\n",
    "📌 Well, According to LangchainDocs they have specifically focused on create_agent class which include `response_format` parameter. I will understand from the perspective of both standalone LLMs and agents. Basically they both follow the same strategy, we just have to add that strategy to `response_format= strategy` for agents.\n",
    "\n",
    "#### When a schema type is provided directly, LangChain automatically chooses `ProviderStrategy` for models supporting native structured output (e.g. OpenAI, Grok), `ToolStrategy` for all other models"
   ]
  },
  {
   "cell_type": "markdown",
   "id": "c31cc64d",
   "metadata": {},
   "source": [
    "## Provider Strategy\n",
    "\n",
    "### 1. TypeDict- Typed dictionary classes"
   ]
  },
  {
   "cell_type": "code",
   "execution_count": 3,
   "id": "20274c6f",
   "metadata": {},
   "outputs": [
    {
     "name": "stdout",
     "output_type": "stream",
     "text": [
      "{'name': 'John Doe', 'email': 'johndoe.dev@gmail.com', 'phone': '+91 98765 43210', 'linkedin_url': 'linkedin.com/in/johndoe-dev', 'github_url': 'github.com/johndoe-dev', 'skills': ['Python', 'JavaScript', 'Bash', 'C++', 'LangChain', 'FastAPI', 'Streamlit', 'PyTorch', 'TensorFlow', 'Docker', 'GitHub Actions', 'AWS (EC2, S3, Lambda)', 'Jenkins', 'Git', 'VS Code', 'Linux', 'Postman', 'Prompt Engineering', 'API Integration', 'Data Visualization (Matplotlib, Seaborn)']}\n"
     ]
    }
   ],
   "source": [
    "from typing import TypedDict\n",
    "from langchain.chat_models import init_chat_model\n",
    "from dotenv import load_dotenv\n",
    "from langchain.messages import HumanMessage\n",
    "\n",
    "load_dotenv()\n",
    "\n",
    "class candidate_info(TypedDict):\n",
    "    name: str\n",
    "    email: str\n",
    "    skills: list[str]\n",
    "    github_url: str\n",
    "    linkedin_url: str\n",
    "    phone: str\n",
    "\n",
    "chat_model = init_chat_model(\"openai:gpt-4o-mini\")\n",
    "\n",
    "message = HumanMessage(\"\"\"John Doe\n",
    "Bengaluru, India\n",
    "Email: johndoe.dev@gmail.com\n",
    "Phone: +91 98765 43210\n",
    "LinkedIn: linkedin.com/in/johndoe-dev\n",
    "GitHub: github.com/johndoe-dev\n",
    "\n",
    "Objective:\n",
    "Motivated and detail-oriented developer with a passion for building intelligent systems and automation tools. Seeking opportunities to apply skills in machine learning, AI-driven systems, and DevOps pipelines to real-world problems.\n",
    "\n",
    "Education:\n",
    "M.Tech in Artificial Intelligence & Data Science, National Institute of Technology, Trichy (Aug 2023 – May 2025)\n",
    "B.E. in Computer Science & Engineering, Visvesvaraya Technological University (Aug 2019 – Jun 2023)\n",
    "\n",
    "Skills:\n",
    "Programming: Python, JavaScript, Bash, C++\n",
    "Frameworks: LangChain, FastAPI, Streamlit, PyTorch, TensorFlow\n",
    "DevOps: Docker, GitHub Actions, AWS (EC2, S3, Lambda), Jenkins\n",
    "Tools: Git, VS Code, Linux, Postman\n",
    "Other: Prompt Engineering, API Integration, Data Visualization (Matplotlib, Seaborn)\n",
    "\n",
    "Projects:\n",
    "\n",
    "CellSense: Multi-Agent System for Cell Growth Analysis\n",
    "\n",
    "Built a LangChain-based multi-agent system analyzing biomaterial properties from multimodal data (text, images, tabular).\n",
    "\n",
    "Agents collaborate to summarize research papers, interpret microscope images, and recommend optimal biomaterials.\n",
    "\n",
    "Technologies: Python, LangChain, OpenAI GPT-4, Streamlit.\n",
    "GitHub: github.com/johndoe-dev/cellsense\n",
    "\n",
    "Personalized Learning Assistant\n",
    "\n",
    "Developed a Streamlit app using LangChain that serves as an interactive mentor for learning AI frameworks.\n",
    "\n",
    "Integrated memory and dynamic prompting to simulate adaptive teaching.\n",
    "\n",
    "Deployed on Streamlit Cloud with OpenAI API and Hugging Face integration.\n",
    "GitHub: github.com/johndoe-dev/langchain-learning-assistant\n",
    "\n",
    "DevOps Automation Pipeline\n",
    "\n",
    "Automated CI/CD workflow for a Flask web app using GitHub Actions and Docker.\n",
    "\n",
    "Deployed on AWS EC2 with versioned updates triggered by Git commits.\n",
    "\n",
    "Implemented monitoring using Prometheus and Grafana.\n",
    "GitHub: github.com/johndoe-dev/devops-pipeline\n",
    "\n",
    "Achievements:\n",
    "\n",
    "AWS Certified Solutions Architect — Associate (2025)\n",
    "\n",
    "Published paper on Multi-Agent Collaboration in Scientific Data Interpretation at IEEE ICMLA 2024\n",
    "\n",
    "Won 2nd place in Smart India Hackathon 2023 for AI-driven traffic safety solution\n",
    "\n",
    "Languages:\n",
    "English (Fluent), Hindi (Native)\n",
    "                       \"\"\")\n",
    "# The following line enables structured output only for the LLM providers who can generate structured output in given schema.\n",
    "\n",
    "structure_model = chat_model.with_structured_output(candidate_info) \n",
    "\n",
    "response = structure_model.invoke([message])\n",
    "\n",
    "print(response)"
   ]
  },
  {
   "cell_type": "code",
   "execution_count": 8,
   "id": "658f9020",
   "metadata": {},
   "outputs": [
    {
     "name": "stdout",
     "output_type": "stream",
     "text": [
      "John Doe\n",
      "johndoe.dev@gmail.com\n",
      "+91 98765 43210\n",
      "['Python', 'JavaScript', 'Bash', 'C++', 'LangChain', 'FastAPI', 'Streamlit', 'PyTorch', 'TensorFlow', 'Docker', 'GitHub Actions', 'AWS (EC2, S3, Lambda)', 'Jenkins', 'Git', 'VS Code', 'Linux', 'Postman', 'Prompt Engineering', 'API Integration', 'Data Visualization (Matplotlib, Seaborn)']\n",
      "github.com/johndoe-dev\n",
      "linkedin.com/in/johndoe-dev\n"
     ]
    }
   ],
   "source": [
    "print(response['name'])\n",
    "print(response['email'])\n",
    "print(response['phone'])\n",
    "print(response['skills'])\n",
    "print(response['github_url'])\n",
    "print(response['linkedin_url'])"
   ]
  },
  {
   "cell_type": "markdown",
   "id": "c1ce271a",
   "metadata": {},
   "source": [
    "#### So, the schema is, here, TypedDict, that is dictionary only which contains keys and their given datatyped value. In other words, if `phone: str` then it will give phone number in string only."
   ]
  },
  {
   "cell_type": "code",
   "execution_count": null,
   "id": "50e6b136",
   "metadata": {},
   "outputs": [
    {
     "name": "stderr",
     "output_type": "stream",
     "text": [
      "/home/vraj/Langchain/.venv/lib/python3.12/site-packages/tqdm/auto.py:21: TqdmWarning: IProgress not found. Please update jupyter and ipywidgets. See https://ipywidgets.readthedocs.io/en/stable/user_install.html\n",
      "  from .autonotebook import tqdm as notebook_tqdm\n"
     ]
    },
    {
     "name": "stdout",
     "output_type": "stream",
     "text": [
      "{'name': 'John Doe', 'email': 'johndoe.dev@gmail.com', 'phone': '+91 98765 43210', 'linkedin_url': 'linkedin.com/in/johndoe-dev', 'github_url': 'github.com/johndoe-dev', 'summary': 'Motivated and detail-oriented developer with a passion for building intelligent systems and automation tools. Seeking opportunities to apply skills in machine learning, AI-driven systems, and DevOps pipelines to real-world problems.', 'skills': ['Python', 'JavaScript', 'Bash', 'C++', 'LangChain', 'FastAPI', 'Streamlit', 'PyTorch', 'TensorFlow', 'Docker', 'GitHub Actions', 'AWS (EC2, S3, Lambda)', 'Jenkins', 'Git', 'VS Code', 'Linux', 'Postman', 'Prompt Engineering', 'API Integration', 'Data Visualization (Matplotlib, Seaborn)']}\n"
     ]
    }
   ],
   "source": [
    "## From YouTube Video:  CampusX -GenAI with Langchain - Structured Outputs\n",
    "\n",
    "# Enhanced version with Annotated and Optional fields.\n",
    "\n",
    "# Annotated class will provide additional context for each field to the LLM, meaning it will work as a prompt, a hint, to LLM to generate things we need.\n",
    "\n",
    "\n",
    "from typing import TypedDict, Annotated, Optional\n",
    "from langchain.chat_models import init_chat_model\n",
    "from dotenv import load_dotenv\n",
    "from langchain.messages import HumanMessage\n",
    "\n",
    "load_dotenv()\n",
    "\n",
    "class candidate_info(TypedDict):\n",
    "    name: Annotated[str, \"Full name of the candidate\"]\n",
    "    email: Annotated[str, \"Email address of the candidate\"]\n",
    "    skills: Annotated[Optional[list[str]], \"List of technical skills possessed by the candidate\"]\n",
    "    github_url: Annotated[Optional[str], \"GitHub profile URL of the candidate\"]\n",
    "    linkedin_url: Annotated[Optional[str], \"LinkedIn profile URL of the candidate\"]\n",
    "    phone: Annotated[Optional[str], \"Phone number of the candidate\"]\n",
    "    summary: Annotated[str, \"A brief summary of the candidate's profile\"]\n",
    "\n",
    "chat_model = init_chat_model(\"openai:gpt-4o-mini\")\n",
    "\n",
    "message = HumanMessage(\"\"\"John Doe\n",
    "Bengaluru, India\n",
    "Email: johndoe.dev@gmail.com\n",
    "Phone: +91 98765 43210\n",
    "LinkedIn: linkedin.com/in/johndoe-dev\n",
    "GitHub: github.com/johndoe-dev\n",
    "\n",
    "Objective:\n",
    "Motivated and detail-oriented developer with a passion for building intelligent systems and automation tools. Seeking opportunities to apply skills in machine learning, AI-driven systems, and DevOps pipelines to real-world problems.\n",
    "\n",
    "Education:\n",
    "M.Tech in Artificial Intelligence & Data Science, National Institute of Technology, Trichy (Aug 2023 – May 2025)\n",
    "B.E. in Computer Science & Engineering, Visvesvaraya Technological University (Aug 2019 – Jun 2023)\n",
    "\n",
    "Skills:\n",
    "Programming: Python, JavaScript, Bash, C++\n",
    "Frameworks: LangChain, FastAPI, Streamlit, PyTorch, TensorFlow\n",
    "DevOps: Docker, GitHub Actions, AWS (EC2, S3, Lambda), Jenkins\n",
    "Tools: Git, VS Code, Linux, Postman\n",
    "Other: Prompt Engineering, API Integration, Data Visualization (Matplotlib, Seaborn)\n",
    "\n",
    "Projects:\n",
    "\n",
    "CellSense: Multi-Agent System for Cell Growth Analysis\n",
    "\n",
    "Built a LangChain-based multi-agent system analyzing biomaterial properties from multimodal data (text, images, tabular).\n",
    "\n",
    "Agents collaborate to summarize research papers, interpret microscope images, and recommend optimal biomaterials.\n",
    "\n",
    "Technologies: Python, LangChain, OpenAI GPT-4, Streamlit.\n",
    "GitHub: github.com/johndoe-dev/cellsense\n",
    "\n",
    "Personalized Learning Assistant\n",
    "\n",
    "Developed a Streamlit app using LangChain that serves as an interactive mentor for learning AI frameworks.\n",
    "\n",
    "Integrated memory and dynamic prompting to simulate adaptive teaching.\n",
    "\n",
    "Deployed on Streamlit Cloud with OpenAI API and Hugging Face integration.\n",
    "GitHub: github.com/johndoe-dev/langchain-learning-assistant\n",
    "\n",
    "DevOps Automation Pipeline\n",
    "\n",
    "Automated CI/CD workflow for a Flask web app using GitHub Actions and Docker.\n",
    "\n",
    "Deployed on AWS EC2 with versioned updates triggered by Git commits.\n",
    "\n",
    "Implemented monitoring using Prometheus and Grafana.\n",
    "GitHub: github.com/johndoe-dev/devops-pipeline\n",
    "\n",
    "Achievements:\n",
    "\n",
    "AWS Certified Solutions Architect — Associate (2025)\n",
    "\n",
    "Published paper on Multi-Agent Collaboration in Scientific Data Interpretation at IEEE ICMLA 2024\n",
    "\n",
    "Won 2nd place in Smart India Hackathon 2023 for AI-driven traffic safety solution\n",
    "\n",
    "Languages:\n",
    "English (Fluent), Hindi (Native)\n",
    "                       \"\"\")\n",
    "# The following line enables structured output only for the LLM providers who can generate structured output in given schema.\n",
    "\n",
    "structure_model = chat_model.with_structured_output(candidate_info) \n",
    "\n",
    "response = structure_model.invoke([message])\n",
    "\n",
    "print(response)"
   ]
  },
  {
   "cell_type": "code",
   "execution_count": 2,
   "id": "26a9a0e2",
   "metadata": {},
   "outputs": [
    {
     "data": {
      "text/plain": [
       "'Motivated and detail-oriented developer with a passion for building intelligent systems and automation tools. Seeking opportunities to apply skills in machine learning, AI-driven systems, and DevOps pipelines to real-world problems.'"
      ]
     },
     "execution_count": 2,
     "metadata": {},
     "output_type": "execute_result"
    }
   ],
   "source": [
    "response['summary']"
   ]
  },
  {
   "cell_type": "markdown",
   "id": "3e41c542",
   "metadata": {},
   "source": [
    "## Dataclass- A decorator"
   ]
  },
  {
   "cell_type": "code",
   "execution_count": null,
   "id": "5c46b8a1",
   "metadata": {},
   "outputs": [
    {
     "name": "stdout",
     "output_type": "stream",
     "text": [
      "{'name': 'John Doe', 'email': 'johndoe.dev@gmail.com', 'skills': ['Python', 'JavaScript', 'Bash', 'C++', 'LangChain', 'FastAPI', 'Streamlit', 'PyTorch', 'TensorFlow', 'Docker', 'GitHub Actions', 'AWS (EC2, S3, Lambda)', 'Jenkins', 'Git', 'VS Code', 'Linux', 'Postman', 'Prompt Engineering', 'API Integration', 'Data Visualization (Matplotlib, Seaborn)'], 'github_url': 'github.com/johndoe-dev', 'linkedin_url': 'linkedin.com/in/johndoe-dev', 'phone': '+91 98765 43210'}\n"
     ]
    }
   ],
   "source": [
    "## Dataclass- A decorator Works the same way as TypedDict just simpler to use.\n",
    "\n",
    "from dataclasses import dataclass\n",
    "from langchain.chat_models import init_chat_model\n",
    "from dotenv import load_dotenv\n",
    "from langchain.messages import HumanMessage\n",
    "\n",
    "load_dotenv()\n",
    "\n",
    "@dataclass\n",
    "class candidate_info:\n",
    "    name: str\n",
    "    email: str\n",
    "    skills: list[str]\n",
    "    github_url: str\n",
    "    linkedin_url: str\n",
    "    phone: str\n",
    "\n",
    "chat_model = init_chat_model(\"openai:gpt-4o-mini\")\n",
    "\n",
    "message = HumanMessage(\"\"\"John Doe\n",
    "Bengaluru, India\n",
    "Email: johndoe.dev@gmail.com\n",
    "Phone: +91 98765 43210\n",
    "LinkedIn: linkedin.com/in/johndoe-dev\n",
    "GitHub: github.com/johndoe-dev\n",
    "\n",
    "Objective:\n",
    "Motivated and detail-oriented developer with a passion for building intelligent systems and automation tools. Seeking opportunities to apply skills in machine learning, AI-driven systems, and DevOps pipelines to real-world problems.\n",
    "\n",
    "Education:\n",
    "M.Tech in Artificial Intelligence & Data Science, National Institute of Technology, Trichy (Aug 2023 – May 2025)\n",
    "B.E. in Computer Science & Engineering, Visvesvaraya Technological University (Aug 2019 – Jun 2023)\n",
    "\n",
    "Skills:\n",
    "Programming: Python, JavaScript, Bash, C++\n",
    "Frameworks: LangChain, FastAPI, Streamlit, PyTorch, TensorFlow\n",
    "DevOps: Docker, GitHub Actions, AWS (EC2, S3, Lambda), Jenkins\n",
    "Tools: Git, VS Code, Linux, Postman\n",
    "Other: Prompt Engineering, API Integration, Data Visualization (Matplotlib, Seaborn)\n",
    "\n",
    "Projects:\n",
    "\n",
    "CellSense: Multi-Agent System for Cell Growth Analysis\n",
    "\n",
    "Built a LangChain-based multi-agent system analyzing biomaterial properties from multimodal data (text, images, tabular).\n",
    "\n",
    "Agents collaborate to summarize research papers, interpret microscope images, and recommend optimal biomaterials.\n",
    "\n",
    "Technologies: Python, LangChain, OpenAI GPT-4, Streamlit.\n",
    "GitHub: github.com/johndoe-dev/cellsense\n",
    "\n",
    "Personalized Learning Assistant\n",
    "\n",
    "Developed a Streamlit app using LangChain that serves as an interactive mentor for learning AI frameworks.\n",
    "\n",
    "Integrated memory and dynamic prompting to simulate adaptive teaching.\n",
    "\n",
    "Deployed on Streamlit Cloud with OpenAI API and Hugging Face integration.\n",
    "GitHub: github.com/johndoe-dev/langchain-learning-assistant\n",
    "\n",
    "DevOps Automation Pipeline\n",
    "\n",
    "Automated CI/CD workflow for a Flask web app using GitHub Actions and Docker.\n",
    "\n",
    "Deployed on AWS EC2 with versioned updates triggered by Git commits.\n",
    "\n",
    "Implemented monitoring using Prometheus and Grafana.\n",
    "GitHub: github.com/johndoe-dev/devops-pipeline\n",
    "\n",
    "Achievements:\n",
    "\n",
    "AWS Certified Solutions Architect — Associate (2025)\n",
    "\n",
    "Published paper on Multi-Agent Collaboration in Scientific Data Interpretation at IEEE ICMLA 2024\n",
    "\n",
    "Won 2nd place in Smart India Hackathon 2023 for AI-driven traffic safety solution\n",
    "\n",
    "Languages:\n",
    "English (Fluent), Hindi (Native)\n",
    "                       \"\"\")\n",
    "# The following line enables structured output only for the LLM providers who can generate structured output in given schema.\n",
    "\n",
    "structure_model = chat_model.with_structured_output(candidate_info) \n",
    "\n",
    "response = structure_model.invoke([message])\n",
    "\n",
    "print(response)\n"
   ]
  },
  {
   "cell_type": "code",
   "execution_count": 4,
   "id": "3adab926",
   "metadata": {},
   "outputs": [
    {
     "name": "stdout",
     "output_type": "stream",
     "text": [
      "['Python', 'JavaScript', 'Bash', 'C++', 'LangChain', 'FastAPI', 'Streamlit', 'PyTorch', 'TensorFlow', 'Docker', 'GitHub Actions', 'AWS (EC2, S3, Lambda)', 'Jenkins', 'Git', 'VS Code', 'Linux', 'Postman', 'Prompt Engineering', 'API Integration', 'Data Visualization (Matplotlib, Seaborn)']\n"
     ]
    }
   ],
   "source": [
    "print(response['skills'])"
   ]
  },
  {
   "cell_type": "code",
   "execution_count": null,
   "id": "53adf300",
   "metadata": {},
   "outputs": [],
   "source": []
  }
 ],
 "metadata": {
  "kernelspec": {
   "display_name": ".venv",
   "language": "python",
   "name": "python3"
  },
  "language_info": {
   "codemirror_mode": {
    "name": "ipython",
    "version": 3
   },
   "file_extension": ".py",
   "mimetype": "text/x-python",
   "name": "python",
   "nbconvert_exporter": "python",
   "pygments_lexer": "ipython3",
   "version": "3.12.3"
  }
 },
 "nbformat": 4,
 "nbformat_minor": 5
}
