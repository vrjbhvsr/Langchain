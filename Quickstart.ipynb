{
 "cells": [
  {
   "cell_type": "markdown",
   "id": "ad6ecb40",
   "metadata": {},
   "source": [
    "# 📘 Topic: Deep dive into Langchain\n",
    "## 🎯 Objective\n",
    "* Understand what LangChain is and What are the components to learn in Langchain.\n",
    "\n",
    "## 🧠 Concepts Covered\n",
    "- Building basic agent from LangchainDocs (https://docs.langchain.com/oss/python/langchain/quickstart)\n",
    "- Introduction to key production components"
   ]
  },
  {
   "cell_type": "markdown",
   "id": "dc5d6361",
   "metadata": {},
   "source": [
    "### 💻 Before even starting to code, the first step is to install Langchain in my system"
   ]
  },
  {
   "cell_type": "code",
   "execution_count": null,
   "id": "a895d41b",
   "metadata": {},
   "outputs": [],
   "source": [
    "pip install -U langchain"
   ]
  },
  {
   "cell_type": "code",
   "execution_count": null,
   "id": "2591a8ee",
   "metadata": {},
   "outputs": [],
   "source": [
    "# TO install OPenAI integration\n",
    "pip install -U langchain-openai\n",
    "\n",
    "# To install Anthropic integration\n",
    "pip install -U langchain-anthropic\n",
    "\n",
    "# To install Google GenAI integration\n",
    "pip install -U langchain-google-genai\n",
    "\n",
    "# To install HuggingFace integration\n",
    "pip install -U langchain-huggingface   #To integrate open source models from HuggingFace\n",
    "\n",
    "# To load the environment variables from .env file\n",
    "pip install -U python-dotenv  # This is new for me as i haven't used it before. I find it useful to manage API keys and other secrets."
   ]
  },
  {
   "cell_type": "markdown",
   "id": "c55f80eb",
   "metadata": {},
   "source": [
    "### Building a basic agent"
   ]
  },
  {
   "cell_type": "code",
   "execution_count": 3,
   "id": "8d51ba57",
   "metadata": {},
   "outputs": [
    {
     "data": {
      "text/plain": [
       "{'messages': [HumanMessage(content='what is the weather in sf', additional_kwargs={}, response_metadata={}, id='2be8b4ac-d51c-49d2-87df-560d3eb21432'),\n",
       "  AIMessage(content='', additional_kwargs={'refusal': None}, response_metadata={'token_usage': {'completion_tokens': 15, 'prompt_tokens': 56, 'total_tokens': 71, 'completion_tokens_details': {'accepted_prediction_tokens': 0, 'audio_tokens': 0, 'reasoning_tokens': 0, 'rejected_prediction_tokens': 0}, 'prompt_tokens_details': {'audio_tokens': 0, 'cached_tokens': 0}}, 'model_provider': 'openai', 'model_name': 'gpt-4o-mini-2024-07-18', 'system_fingerprint': 'fp_560af6e559', 'id': 'chatcmpl-CVNwii6tq68jlUXZ60ACUPKnPDnjY', 'service_tier': 'default', 'finish_reason': 'tool_calls', 'logprobs': None}, id='lc_run--9cfeaa48-e7c0-45f1-be79-4afa6551ffcd-0', tool_calls=[{'name': 'get_weather', 'args': {'city': 'San Francisco'}, 'id': 'call_fpVEojuJuy3cvtopPOunlMqv', 'type': 'tool_call'}], usage_metadata={'input_tokens': 56, 'output_tokens': 15, 'total_tokens': 71, 'input_token_details': {'audio': 0, 'cache_read': 0}, 'output_token_details': {'audio': 0, 'reasoning': 0}}),\n",
       "  ToolMessage(content=\"It's always windy in San Francisco!\", name='get_weather', id='ceaa6b73-1826-4521-907c-bcbf150ffeca', tool_call_id='call_fpVEojuJuy3cvtopPOunlMqv'),\n",
       "  AIMessage(content='The weather in San Francisco is typically windy. If you need more detailed information like temperature or precipitation, please let me know!', additional_kwargs={'refusal': None}, response_metadata={'token_usage': {'completion_tokens': 26, 'prompt_tokens': 86, 'total_tokens': 112, 'completion_tokens_details': {'accepted_prediction_tokens': 0, 'audio_tokens': 0, 'reasoning_tokens': 0, 'rejected_prediction_tokens': 0}, 'prompt_tokens_details': {'audio_tokens': 0, 'cached_tokens': 0}}, 'model_provider': 'openai', 'model_name': 'gpt-4o-mini-2024-07-18', 'system_fingerprint': 'fp_560af6e559', 'id': 'chatcmpl-CVNwkTB8LVpEd97yKlg7Q0QGHjGOa', 'service_tier': 'default', 'finish_reason': 'stop', 'logprobs': None}, id='lc_run--b5e9e2a0-af27-4d1f-a7b4-939e40a6fb74-0', usage_metadata={'input_tokens': 86, 'output_tokens': 26, 'total_tokens': 112, 'input_token_details': {'audio': 0, 'cache_read': 0}, 'output_token_details': {'audio': 0, 'reasoning': 0}})]}"
      ]
     },
     "execution_count": 3,
     "metadata": {},
     "output_type": "execute_result"
    }
   ],
   "source": [
    "from langchain.agents import create_agent\n",
    "from dotenv import load_dotenv\n",
    "\n",
    "load_dotenv()\n",
    "\n",
    "def get_weather(city: str) -> str:\n",
    "    \"\"\"Get weather for a given city.\"\"\"\n",
    "    return f\"It's always windy in {city}!\"\n",
    "\n",
    "agent = create_agent(\n",
    "    model=\"gpt-4o-mini\",\n",
    "    tools=[get_weather],\n",
    "    system_prompt=\"You are a helpful assistant\",\n",
    ")\n",
    "\n",
    "# Run the agent\n",
    "agent.invoke(\n",
    "    {\"messages\": [{\"role\": \"user\", \"content\": \"what is the weather in sf\"}]}\n",
    ")"
   ]
  },
  {
   "cell_type": "markdown",
   "id": "3d8f11cb",
   "metadata": {},
   "source": [
    "### What I understood?\n",
    "\n",
    "- We need different components to build a basic agent, such as model, tools, system prompt, and message.\n",
    "\n",
    "* `Model`: Model can be any LLM,  based on desired task, such as text generation, summarisation. For agents and other standalone task chat-models are being widely used instead of base LLMs.\n",
    "* `tools`: This can help model to communicate with other models, functions to perform real world actions that is beyond model's capabilit, such as gpt-4o-mini cannot provide the live weather of the berlin city. so the tools can be any API that fetches current weather.\n",
    "\n",
    "* `System prompts`: We need to provide better system prompts to make agent behave properly.\n",
    "\n",
    "* `Message`: it's piece of text sent to or from the model during conversation. Each message has a role and a content."
   ]
  },
  {
   "cell_type": "code",
   "execution_count": null,
   "id": "b921c4d8",
   "metadata": {},
   "outputs": [],
   "source": [
    "# we can also use other models such as anthropic's claude.\n",
    "\n",
    "from langchain.agents import create_agent\n",
    "\n",
    "def get_weather(city: str) -> str:\n",
    "    \"\"\"Get weather for a given city.\"\"\"\n",
    "    return f\"It's always windy in {city}!\"\n",
    "\n",
    "\n",
    "agent = create_agent(\n",
    "    model=\"anthropic:claude-sonnet-4-5\",\n",
    "    tools=[get_weather],\n",
    "    system_prompt=\"You are a helpful assistant\",\n",
    ")\n",
    "\n",
    "# Run the agent\n",
    "agent.invoke(\n",
    "    {\"messages\": [{\"role\": \"user\", \"content\": \"what is the weather in sf\"}]}\n",
    ")"
   ]
  },
  {
   "cell_type": "markdown",
   "id": "748e2abc",
   "metadata": {},
   "source": [
    ">Note: I don't have Anthropic API that's why i unable to run this;)"
   ]
  }
 ],
 "metadata": {
  "kernelspec": {
   "display_name": ".venv",
   "language": "python",
   "name": "python3"
  },
  "language_info": {
   "codemirror_mode": {
    "name": "ipython",
    "version": 3
   },
   "file_extension": ".py",
   "mimetype": "text/x-python",
   "name": "python",
   "nbconvert_exporter": "python",
   "pygments_lexer": "ipython3",
   "version": "3.12.3"
  }
 },
 "nbformat": 4,
 "nbformat_minor": 5
}
