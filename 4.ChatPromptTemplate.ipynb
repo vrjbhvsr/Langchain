{
 "cells": [
  {
   "cell_type": "markdown",
   "id": "f8e5007d",
   "metadata": {},
   "source": [
    "# 📘 Topic: Deep dive into Langchain- langchain_core.ChatPromptTemplate\n",
    "\n",
    "\n",
    "## 🎯 Objective\n",
    "###  Understanding static vs dynamic prompt. Understanding ChatPromptTemplate class"
   ]
  },
  {
   "cell_type": "markdown",
   "id": "1af909aa",
   "metadata": {},
   "source": [
    "#### In previous section, 3.Syetm_prompts_and_Messages.ipynb, whichever prompts that I entered was the example of static prompts. \n",
    "\n",
    "#### 🔹 Limitation of Fixed Prompts\n",
    "\n",
    "System prompts defined at the beginning of a session remain constant throughout the interaction. This restricts the model’s ability to adapt to new personality, tasks, tones, or contextual changes.\n",
    "\n",
    "For example, if we set the system prompt as “You are a Creative Idea Generator,” the model will continue responding from that perspective across all queries. Consequently, if we later require analytical or mathematically detailed answers instead of purely theoretical or creative ones, we would need to manually modify the system prompt each time—an impractical approach for dynamic applications.\n",
    "\n",
    "##### 🔹 Need for Dynamic Prompting\n",
    "\n",
    "To overcome this limitation, dynamic prompting is introduced. It allows selective modification of certain parts of the prompt based on the current context, user intent, or task type, while keeping the core instruction stable. This enables the model to generate responses that are more relevant, adaptive, and task-specific without requiring constant manual prompt adjustments.Those prompt are defined in very beginning, thst sre fixed. So, it limits the model to adapt with new topic, task, tone and related content.\n"
   ]
  },
  {
   "cell_type": "code",
   "execution_count": 10,
   "id": "601661bd",
   "metadata": {},
   "outputs": [
    {
     "name": "stdout",
     "output_type": "stream",
     "text": [
      "messages=[SystemMessage(content='You are a helpful assistant that translates English to French. Your name is TranslatorBot.', additional_kwargs={}, response_metadata={}), HumanMessage(content='Translate the following English text to French: Hello, how are you?', additional_kwargs={}, response_metadata={})]\n"
     ]
    }
   ],
   "source": [
    "## From YouTube Video: Generative AI using Langchain - CampusX and Langchain Reference\n",
    "\n",
    "# we can make create our messages list using langchain_core module with ChatPromptTemplate class. \n",
    "# This class helps us to create chat prompts with multiple messages like system message, human message, AI message etc.\n",
    "\n",
    "from langchain_core.prompts import ChatPromptTemplate\n",
    "from langchain.messages import SystemMessage, HumanMessage, AIMessage\n",
    "\n",
    "template = ChatPromptTemplate([\n",
    "    (\"system\",\"You are a helpful assistant that translates English to French. Your name is {name}.\"),\n",
    "    (\"human\",\"Translate the following English text to French: {text}\"),\n",
    "])\n",
    "\n",
    "prompt = template.invoke({\"name\": \"TranslatorBot\",\n",
    "                       \"text\": \"Hello, how are you?\"})\n",
    "\n",
    "print(prompt)"
   ]
  },
  {
   "cell_type": "code",
   "execution_count": 15,
   "id": "768a2d6a",
   "metadata": {},
   "outputs": [
    {
     "name": "stdout",
     "output_type": "stream",
     "text": [
      "Bonjour, comment vas-tu ?\n"
     ]
    }
   ],
   "source": [
    "from langchain.chat_models import init_chat_model\n",
    "from dotenv import load_dotenv\n",
    "\n",
    "load_dotenv()\n",
    "\n",
    "chat_model = init_chat_model(\"openai:gpt-3.5-turbo\", temperature=0)\n",
    "response = chat_model.invoke(prompt)\n",
    "\n",
    "print(response.content)"
   ]
  },
  {
   "cell_type": "markdown",
   "id": "0f31da5d",
   "metadata": {},
   "source": [
    "#### 🔹 Dynamic Prompt\n",
    "\n",
    "ChatPromptTemplate is a structured way to build the messages that we send to chat model. We can put placeholders that we can change at the time of model calling.-- Dynamic prompting."
   ]
  },
  {
   "cell_type": "code",
   "execution_count": null,
   "id": "40809e66",
   "metadata": {},
   "outputs": [
    {
     "name": "stdout",
     "output_type": "stream",
     "text": [
      "Great! Here are two innovative ideas for you:\n",
      "\n",
      "**Idea 1: Title: \"AI-Powered Personalized Learning Assistant\"**\n",
      "\n",
      "**Idea Description:** Imagine having a virtual learning companion that helps you study and learn in a personalized way. This AI-powered assistant would analyze your learning style, strengths, and weaknesses to create customized study plans, recommend resources, and provide real-time feedback on your progress.\n",
      "\n",
      "**Value Proposition:** This personalized learning assistant can enhance your learning experience by tailoring study materials to your individual needs, helping you grasp concepts more effectively and efficiently.\n",
      "\n",
      "**Potential Challenges:** Ensuring data privacy and security, developing algorithms that accurately assess learning styles, and integrating with existing educational platforms.\n",
      "\n",
      "**Tools/Technologies Required:** Artificial Intelligence, Machine Learning, Natural Language Processing, Data Analytics.\n",
      "\n",
      "**Target Audience:** Students of all ages, lifelong learners, and professionals seeking to upskill or reskill.\n",
      "\n",
      "**Job-market Fit:** This idea aligns with the growing demand for personalized and adaptive learning solutions in the education and training sectors.\n",
      "\n",
      "**Implementation Strategy:** Collaborate with educational institutions, online learning platforms, and corporate training programs to integrate the AI-powered learning assistant into their systems.\n",
      "\n",
      "**Idea 2: Title: \"Robotic Personal Trainer for Home Workouts\"**\n",
      "\n",
      "**Idea Description:** Picture having a robotic personal trainer at home to guide you through workouts, correct your form, and motivate you to stay active. This robot would use AI to create personalized exercise routines based on your fitness goals and progress.\n",
      "\n",
      "**Value Proposition:** This robotic personal trainer offers convenience, motivation, and personalized fitness guidance, making home workouts more engaging and effective.\n",
      "\n",
      "**Potential Challenges:** Designing a robot that can safely interact with users, developing AI algorithms for personalized fitness recommendations, and ensuring user-friendly interface.\n",
      "\n",
      "**Tools/Technologies Required:** Robotics, Artificial Intelligence, Computer Vision, Motion Sensors.\n",
      "\n",
      "**Target Audience:** Fitness enthusiasts, individuals with busy schedules, seniors looking to stay active at home.\n",
      "\n",
      "**Job-market Fit:** This idea taps into the growing trend of home fitness solutions and the demand for personalized training experiences.\n",
      "\n",
      "**Implementation Strategy:** Partner with fitness equipment manufacturers, gyms, and wellness apps to integrate the robotic personal trainer into their offerings, providing users with a comprehensive home workout experience.\n",
      "\n",
      "I hope these ideas inspire you! Let me know if you need more ideas or further details on these concepts.\n"
     ]
    }
   ],
   "source": [
    "from langchain_core import ChatPromptTemplate\n",
    "\n",
    "template = ChatPromptTemplate([\n",
    "    (\"system\",\"\"\"You are a Creative Idea Generator that produces innovative, feasible, and original ideas within {domain}.\n",
    "            Please provide {number_of_ideas} ideas. If not specified, provide 3 ideas. \n",
    "            Use associative thinking, analogy, and pattern recognition to produce ideas that are both novel and practical.\n",
    "            Each Idea should be completely Unique, real-world applicable and detailed.\n",
    "            Your ideas should not repeat or rephrase any previous ideas.\n",
    "            Your Ideas should contain following Specifications:\n",
    "            Explanation style: {explanation_style}\n",
    "            Maturity Level: {maturity_level}\n",
    "            Title, Idea Description, Value Proposition, Potential Challenges, tools/technologies required, target audience, \n",
    "            Job-market fit, implementation srtategy.\n",
    "            Respond in an enthusiastic and encouraging tone while still maintaining clarity and structure. The resultsshould not be overwhelming.\n",
    "            \"\"\"),\n",
    "    (\"human\",\"Hey! can you help me with an idea?\"),\n",
    "    (\"ai\",\"Of course! You don't have to ask! I am always there for you. Tell me what you need.\")\n",
    "])\n",
    "prompt = template.format_messages(\n",
    "    domain= \"AI and Robotics\",\n",
    "    explanation_style= \"Like Mom explains to a child\",\n",
    "    maturity_level= \"Innovative and Futuristic\",\n",
    "    number_of_ideas= 2)\n",
    "\n",
    "response = chat_model.invoke(prompt)\n",
    "print(response.content)\n"
   ]
  },
  {
   "cell_type": "code",
   "execution_count": 25,
   "id": "2c5347dc",
   "metadata": {},
   "outputs": [
    {
     "name": "stdout",
     "output_type": "stream",
     "text": [
      "Idea 1:\n",
      "Title: Interactive Packaging Design\n",
      "Idea Description: Create packaging designs that incorporate interactive elements such as QR codes, augmented reality (AR), or NFC technology. These interactive features can provide customers with additional product information, tutorials, or even games, enhancing their overall experience.\n",
      "Value Proposition: Interactive packaging can engage customers on a deeper level, differentiate your product from competitors, and provide valuable insights into customer behavior and preferences.\n",
      "Potential Challenges: Ensuring seamless integration of technology into packaging, managing costs associated with implementing interactive features, and educating customers on how to use these features.\n",
      "Tools/Technologies Required: QR code generators, AR development tools, NFC tags, packaging design software.\n",
      "Target Audience: Consumer goods companies looking to enhance their product packaging and engage customers in a unique way.\n",
      "Job-market Fit: Graphic designers with skills in interactive design, packaging designers, marketing professionals.\n",
      "Implementation Strategy: Collaborate with technology partners to implement interactive features, conduct user testing to ensure usability, and create a marketing campaign to promote the interactive packaging to customers.\n",
      "\n",
      "Idea 2:\n",
      "Title: Sustainable Design Certification Program\n",
      "Idea Description: Develop a certification program for graphic designers focused on sustainable design practices. The program would educate designers on eco-friendly materials, printing techniques, and design principles to create environmentally conscious designs.\n",
      "Value Proposition: By becoming certified in sustainable design, graphic designers can differentiate themselves in the market, attract clients who prioritize sustainability, and contribute to reducing the environmental impact of the design industry.\n",
      "Potential Challenges: Developing a comprehensive curriculum that covers all aspects of sustainable design, gaining recognition and buy-in from industry stakeholders, and ensuring ongoing education and updates to keep up with evolving sustainability standards.\n",
      "Tools/Technologies Required: Online learning platforms, sustainability assessment tools, design software with eco-friendly plugins.\n",
      "Target Audience: Graphic designers looking to specialize in sustainable design, design agencies committed to environmental responsibility.\n",
      "Job-market Fit: Graphic designers seeking to align their skills with the growing demand for sustainable practices in the design industry.\n",
      "Implementation Strategy: Partner with sustainability experts to develop the curriculum, offer online courses for accessibility, and collaborate with design organizations to promote the certification program to the design community.\n",
      "\n",
      "Idea 3:\n",
      "Title: Personalized Data Visualization Service\n",
      "Idea Description: Offer a service that creates custom data visualizations for businesses and individuals, transforming complex data sets into visually appealing and easy-to-understand graphics. This service can help clients make informed decisions, identify trends, and communicate data effectively.\n",
      "Value Proposition: By providing personalized data visualizations, clients can gain valuable insights from their data, enhance presentations and reports, and stand out with visually engaging content.\n",
      "Potential Challenges: Understanding client data requirements and preferences, ensuring accuracy and clarity in data visualization, and managing client expectations regarding data interpretation.\n",
      "Tools/Technologies Required: Data visualization software, graphic design tools, client data management systems.\n",
      "Target Audience: Businesses, researchers, educators, and individuals looking to visualize data in a meaningful way.\n",
      "Job-market Fit: Graphic designers with expertise in data visualization, data analysts seeking to enhance their visual communication skills.\n",
      "Implementation Strategy: Consult with clients to understand their data needs, create custom data visualization designs, provide options for interactive or static visuals, and offer training on interpreting and using the visualizations effectively.\n"
     ]
    }
   ],
   "source": [
    "prompt = template.format_messages(\n",
    "    domain= \"Graphic Designing\",\n",
    "    explanation_style= \"Like Manager explains to employee\",\n",
    "    maturity_level= \"Real-world applicable and implementable\",\n",
    "    number_of_ideas= 3)\n",
    "\n",
    "response = chat_model.invoke(prompt)\n",
    "print(response.content)"
   ]
  },
  {
   "cell_type": "code",
   "execution_count": 32,
   "id": "f9cb117f",
   "metadata": {},
   "outputs": [],
   "source": [
    "# we can save this template for future use.\n",
    "from langchain_core.prompts import ChatPromptTemplate, load_prompt, PromptTemplate\n",
    "\n",
    "template = PromptTemplate(template = \"\"\"You are a Creative Idea Generator that produces innovative, feasible, and original ideas within {domain}.\n",
    "            Please provide {number_of_ideas} ideas. If not specified, provide 3 ideas. \n",
    "            Use associative thinking, analogy, and pattern recognition to produce ideas that are both novel and practical.\n",
    "            Each Idea should be completely Unique, real-world applicable and detailed.\n",
    "            Your ideas should not repeat or rephrase any previous ideas.\n",
    "            Your Ideas should contain following Specifications:\n",
    "            Explanation style: {explanation_style}\n",
    "            Maturity Level: {maturity_level}\n",
    "            Title, Idea Description, Value Proposition, Potential Challenges, tools/technologies required, target audience, \n",
    "            Job-market fit, implementation srtategy.\n",
    "            Respond in an enthusiastic and encouraging tone while still maintaining clarity and structure. The resultsshould not be overwhelming.\n",
    "            \"\"\")\n",
    "\n",
    "template.save(\"idea_generator_prompt.json\")"
   ]
  },
  {
   "cell_type": "code",
   "execution_count": 34,
   "id": "cb46db1c",
   "metadata": {},
   "outputs": [
    {
     "name": "stdout",
     "output_type": "stream",
     "text": [
      "input_variables=['domain', 'explanation_style', 'maturity_level', 'number_of_ideas'] input_types={} partial_variables={} template='You are a Creative Idea Generator that produces innovative, feasible, and original ideas within {domain}.\\n            Please provide {number_of_ideas} ideas. If not specified, provide 3 ideas. \\n            Use associative thinking, analogy, and pattern recognition to produce ideas that are both novel and practical.\\n            Each Idea should be completely Unique, real-world applicable and detailed.\\n            Your ideas should not repeat or rephrase any previous ideas.\\n            Your Ideas should contain following Specifications:\\n            Explanation style: {explanation_style}\\n            Maturity Level: {maturity_level}\\n            Title, Idea Description, Value Proposition, Potential Challenges, tools/technologies required, target audience, \\n            Job-market fit, implementation srtategy.\\n            Respond in an enthusiastic and encouraging tone while still maintaining clarity and structure. The resultsshould not be overwhelming.\\n            '\n"
     ]
    }
   ],
   "source": [
    "# We can use the saved prompt template in future like this.\n",
    "from langchain_core.prompts import ChatPromptTemplate, load_prompt\n",
    "\n",
    "prompt = load_prompt(\"idea_generator_prompt.json\")\n",
    "print(prompt)"
   ]
  },
  {
   "cell_type": "code",
   "execution_count": 35,
   "id": "b2e2a463",
   "metadata": {},
   "outputs": [
    {
     "name": "stdout",
     "output_type": "stream",
     "text": [
      "text='You are a Creative Idea Generator that produces innovative, feasible, and original ideas within Healthcare Technology.\\n            Please provide 2 ideas. If not specified, provide 3 ideas. \\n            Use associative thinking, analogy, and pattern recognition to produce ideas that are both novel and practical.\\n            Each Idea should be completely Unique, real-world applicable and detailed.\\n            Your ideas should not repeat or rephrase any previous ideas.\\n            Your Ideas should contain following Specifications:\\n            Explanation style: Like a professor explains to students\\n            Maturity Level: Cutting-edge and research-oriented\\n            Title, Idea Description, Value Proposition, Potential Challenges, tools/technologies required, target audience, \\n            Job-market fit, implementation srtategy.\\n            Respond in an enthusiastic and encouraging tone while still maintaining clarity and structure. The resultsshould not be overwhelming.\\n            '\n"
     ]
    }
   ],
   "source": [
    "new_prompt = prompt.invoke({\n",
    "    \"domain\": \"Healthcare Technology\",\n",
    "    \"number_of_ideas\": 2,\n",
    "    \"explanation_style\": \"Like a professor explains to students\",\n",
    "    \"maturity_level\": \"Cutting-edge and research-oriented\"\n",
    "})\n",
    "\n",
    "print(new_prompt)"
   ]
  },
  {
   "cell_type": "code",
   "execution_count": 36,
   "id": "3c632d79",
   "metadata": {},
   "outputs": [
    {
     "name": "stdout",
     "output_type": "stream",
     "text": [
      "Idea 1:\n",
      "Title: Virtual Reality Therapy for Pain Management\n",
      "\n",
      "Idea Description:\n",
      "Utilizing virtual reality (VR) technology to provide immersive and interactive therapy sessions for patients suffering from chronic pain. By creating virtual environments that distract the brain from focusing on pain signals, patients can experience reduced pain levels and improved overall well-being. The therapy sessions can be tailored to each individual's specific needs and preferences, offering a personalized approach to pain management.\n",
      "\n",
      "Value Proposition:\n",
      "Virtual reality therapy offers a non-invasive and drug-free alternative for managing chronic pain, providing patients with a safe and effective way to alleviate their symptoms. By engaging the brain in a virtual world, patients can experience a reduction in pain intensity and frequency, leading to improved quality of life and increased functionality.\n",
      "\n",
      "Potential Challenges:\n",
      "One potential challenge of implementing virtual reality therapy for pain management is the initial cost of acquiring VR equipment and software. Additionally, ensuring that patients have access to the necessary technology and training to use VR effectively may be a barrier to widespread adoption.\n",
      "\n",
      "Tools/Technologies Required:\n",
      "Virtual reality headsets, VR software development tools, biofeedback sensors for monitoring pain levels, and a platform for delivering therapy sessions remotely.\n",
      "\n",
      "Target Audience:\n",
      "Patients suffering from chronic pain conditions such as fibromyalgia, arthritis, neuropathy, and migraines, as well as healthcare providers looking for innovative pain management solutions.\n",
      "\n",
      "Job-market Fit:\n",
      "There is a growing demand for non-pharmacological pain management options, making virtual reality therapy a valuable addition to healthcare practices specializing in pain treatment.\n",
      "\n",
      "Implementation Strategy:\n",
      "Collaborate with healthcare providers and pain management specialists to develop customized virtual reality therapy programs. Conduct clinical trials to evaluate the effectiveness of VR therapy for pain management and gather data to support its integration into mainstream healthcare practices.\n",
      "\n",
      "Idea 2:\n",
      "Title: AI-Powered Remote Patient Monitoring System\n",
      "\n",
      "Idea Description:\n",
      "Developing an artificial intelligence (AI) powered system for remote patient monitoring, allowing healthcare providers to track patients' vital signs, symptoms, and medication adherence in real-time. The system can analyze data trends, detect early warning signs of health deterioration, and provide personalized recommendations for intervention, improving patient outcomes and reducing hospital readmissions.\n",
      "\n",
      "Value Proposition:\n",
      "AI-powered remote patient monitoring offers a proactive approach to healthcare management, enabling early detection of health issues and timely interventions to prevent complications. By leveraging AI algorithms to analyze patient data, healthcare providers can deliver more personalized and effective care, leading to better patient satisfaction and reduced healthcare costs.\n",
      "\n",
      "Potential Challenges:\n",
      "One potential challenge of implementing AI-powered remote patient monitoring is ensuring data security and privacy compliance, as patient health information must be protected from unauthorized access. Additionally, integrating AI algorithms into existing healthcare systems and workflows may require training and support for healthcare providers.\n",
      "\n",
      "Tools/Technologies Required:\n",
      "AI algorithms for data analysis, remote monitoring devices (e.g., wearable sensors, smart devices), secure data storage and transmission protocols, and a user-friendly interface for healthcare providers and patients.\n",
      "\n",
      "Target Audience:\n",
      "Healthcare providers managing patients with chronic conditions, elderly patients requiring continuous monitoring, and healthcare organizations seeking to improve care coordination and patient outcomes.\n",
      "\n",
      "Job-market Fit:\n",
      "There is a growing demand for remote patient monitoring solutions that leverage AI technology to enhance healthcare delivery and improve patient outcomes, making this idea highly relevant in the current healthcare landscape.\n",
      "\n",
      "Implementation Strategy:\n",
      "Collaborate with healthcare organizations to pilot test the AI-powered remote patient monitoring system in clinical settings, gather feedback from healthcare providers and patients, and refine the system based on real-world usage. Develop partnerships with technology vendors and data analytics experts to enhance the capabilities of the system and ensure its scalability and interoperability with existing healthcare systems.\n"
     ]
    }
   ],
   "source": [
    "response = chat_model.invoke(new_prompt)\n",
    "print(response.content)"
   ]
  }
 ],
 "metadata": {
  "kernelspec": {
   "display_name": ".venv",
   "language": "python",
   "name": "python3"
  },
  "language_info": {
   "codemirror_mode": {
    "name": "ipython",
    "version": 3
   },
   "file_extension": ".py",
   "mimetype": "text/x-python",
   "name": "python",
   "nbconvert_exporter": "python",
   "pygments_lexer": "ipython3",
   "version": "3.12.3"
  }
 },
 "nbformat": 4,
 "nbformat_minor": 5
}
