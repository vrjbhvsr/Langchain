{
 "cells": [
  {
   "cell_type": "markdown",
   "id": "f8e5007d",
   "metadata": {},
   "source": [
    "# 📘 Topic: Deep dive into Langchain- langchain_core.ChatPromptTemplate\n",
    "\n",
    "\n",
    "## 🎯 Objective\n",
    "###  Understanding static vs dynamic prompt. Understanding ChatPromptTemplate class"
   ]
  },
  {
   "cell_type": "markdown",
   "id": "1af909aa",
   "metadata": {},
   "source": [
    "#### In previous section, 3.Syetm_prompts_and_Messages.ipynb, whichever prompts that I entered was the example of static prompts. \n",
    "\n",
    "#### 🔹 Limitation of Fixed Prompts\n",
    "\n",
    "System prompts defined at the beginning of a session remain constant throughout the interaction. This restricts the model’s ability to adapt to new personality, tasks, tones, or contextual changes.\n",
    "\n",
    "For example, if we set the system prompt as “You are a Creative Idea Generator,” the model will continue responding from that perspective across all queries. Consequently, if we later require analytical or mathematically detailed answers instead of purely theoretical or creative ones, we would need to manually modify the system prompt each time—an impractical approach for dynamic applications.\n",
    "\n",
    "##### 🔹 Need for Dynamic Prompting\n",
    "\n",
    "To overcome this limitation, dynamic prompting is introduced. It allows selective modification of certain parts of the prompt based on the current context, user intent, or task type, while keeping the core instruction stable. This enables the model to generate responses that are more relevant, adaptive, and task-specific without requiring constant manual prompt adjustments.Those prompt are defined in very beginning, thst sre fixed. So, it limits the model to adapt with new topic, task, tone and related content.\n"
   ]
  },
  {
   "cell_type": "code",
   "execution_count": 10,
   "id": "601661bd",
   "metadata": {},
   "outputs": [
    {
     "name": "stdout",
     "output_type": "stream",
     "text": [
      "messages=[SystemMessage(content='You are a helpful assistant that translates English to French. Your name is TranslatorBot.', additional_kwargs={}, response_metadata={}), HumanMessage(content='Translate the following English text to French: Hello, how are you?', additional_kwargs={}, response_metadata={})]\n"
     ]
    }
   ],
   "source": [
    "## From YouTube Video: Generative AI using Langchain - CampusX and Langchain Reference\n",
    "\n",
    "# we can make create our messages list using langchain_core module with ChatPromptTemplate class. \n",
    "# This class helps us to create chat prompts with multiple messages like system message, human message, AI message etc.\n",
    "\n",
    "from langchain_core.prompts import ChatPromptTemplate\n",
    "from langchain.messages import SystemMessage, HumanMessage, AIMessage\n",
    "\n",
    "template = ChatPromptTemplate([\n",
    "    (\"system\",\"You are a helpful assistant that translates English to French. Your name is {name}.\"),\n",
    "    (\"human\",\"Translate the following English text to French: {text}\"),\n",
    "])\n",
    "\n",
    "prompt = template.invoke({\"name\": \"TranslatorBot\",\n",
    "                       \"text\": \"Hello, how are you?\"})\n",
    "\n",
    "print(prompt)"
   ]
  },
  {
   "cell_type": "code",
   "execution_count": 15,
   "id": "768a2d6a",
   "metadata": {},
   "outputs": [
    {
     "name": "stdout",
     "output_type": "stream",
     "text": [
      "Bonjour, comment vas-tu ?\n"
     ]
    }
   ],
   "source": [
    "from langchain.chat_models import init_chat_model\n",
    "from dotenv import load_dotenv\n",
    "\n",
    "load_dotenv()\n",
    "\n",
    "chat_model = init_chat_model(\"openai:gpt-3.5-turbo\", temperature=0)\n",
    "response = chat_model.invoke(prompt)\n",
    "\n",
    "print(response.content)"
   ]
  },
  {
   "cell_type": "markdown",
   "id": "0f31da5d",
   "metadata": {},
   "source": [
    "#### 🔹 Dynamic Prompt\n",
    "\n",
    "ChatPromptTemplate is a structured way to build the messages that we send to chat model. We can put placeholders that we can change at the time of model calling.-- Dynamic prompting."
   ]
  },
  {
   "cell_type": "code",
   "execution_count": 23,
   "id": "40809e66",
   "metadata": {},
   "outputs": [
    {
     "name": "stdout",
     "output_type": "stream",
     "text": [
      "Great! Here are two innovative ideas for you:\n",
      "\n",
      "**Idea 1: Title - AI-Powered Personalized Learning Assistant**\n",
      "\n",
      "- **Idea Description:** Develop an AI-powered personalized learning assistant that uses machine learning algorithms to analyze students' learning styles, preferences, and performance data to create customized study plans and recommend resources tailored to each individual's needs.\n",
      "\n",
      "- **Value Proposition:** This tool will enhance the learning experience by providing personalized support, improving engagement, and boosting academic performance. It can adapt to each student's pace, strengths, and weaknesses, leading to more effective learning outcomes.\n",
      "\n",
      "- **Potential Challenges:** Ensuring data privacy and security, overcoming biases in the AI algorithms, and integrating seamlessly with existing educational platforms.\n",
      "\n",
      "- **Tools/Technologies Required:** Machine learning algorithms, natural language processing, data analytics, cloud computing, and user interface design.\n",
      "\n",
      "- **Target Audience:** Students of all ages, educational institutions, and online learning platforms.\n",
      "\n",
      "- **Job-market Fit:** High demand for personalized learning solutions in the education sector, creating opportunities for AI specialists, data analysts, and educational technologists.\n",
      "\n",
      "- **Implementation Strategy:** Collaborate with schools, universities, and online learning platforms to pilot the AI assistant, gather feedback, and iterate on the design based on user experiences.\n",
      "\n",
      "**Idea 2: Title - Autonomous Delivery Robots for Last-Mile Logistics**\n",
      "\n",
      "- **Idea Description:** Develop autonomous delivery robots equipped with AI navigation systems to efficiently transport packages and goods for last-mile logistics, reducing delivery times and costs for e-commerce companies and logistics providers.\n",
      "\n",
      "- **Value Proposition:** These robots can navigate urban environments, avoid obstacles, and deliver packages directly to customers' doorsteps, improving delivery efficiency, reducing carbon emissions, and enhancing customer satisfaction.\n",
      "\n",
      "- **Potential Challenges:** Regulatory hurdles, safety concerns, public acceptance, and technical challenges related to navigation in complex urban environments.\n",
      "\n",
      "- **Tools/Technologies Required:** Robotics, AI-powered navigation systems, sensors (lidar, cameras), GPS tracking, and cloud-based logistics management software.\n",
      "\n",
      "- **Target Audience:** E-commerce companies, logistics providers, retail businesses, and urban delivery services.\n",
      "\n",
      "- **Job-market Fit:** Growing demand for autonomous delivery solutions in the logistics industry, creating opportunities for robotics engineers, AI specialists, and logistics managers.\n",
      "\n",
      "- **Implementation Strategy:** Partner with e-commerce companies and logistics providers to pilot the autonomous delivery robots in select urban areas, demonstrate the benefits, and scale the solution based on performance metrics and customer feedback.\n",
      "\n",
      "Feel free to ask if you need more details or have any questions!\n"
     ]
    }
   ],
   "source": [
    "template = ChatPromptTemplate([\n",
    "    (\"system\",\"\"\"You are a Creative Idea Generator that produces innovative, feasible, and original ideas within {domain}.\n",
    "            Please provide {number_of_ideas} ideas. If not specified, provide 3 ideas. \n",
    "            Use associative thinking, analogy, and pattern recognition to produce ideas that are both novel and practical.\n",
    "            Each Idea should be completely Unique, real-world applicable and detailed.\n",
    "            Your ideas should not repeat or rephrase any previous ideas.\n",
    "            Your Ideas should contain following Specifications:\n",
    "            Explanation style: {explanation_style}\n",
    "            Maturity Level: {maturity_level}\n",
    "            Title, Idea Description, Value Proposition, Potential Challenges, tools/technologies required, target audience, \n",
    "            Job-market fit, implementation srtategy.\n",
    "            Respond in an enthusiastic and encouraging tone while still maintaining clarity and structure. The resultsshould not be overwhelming.\n",
    "            \"\"\"),\n",
    "    (\"human\",\"Hey! can you help me with an idea?\"),\n",
    "    (\"ai\",\"Of course! You don't have to ask! I am always there for you. Tell me what you need.\")\n",
    "])\n",
    "prompt = template.format_messages(\n",
    "    domain= \"AI and Robotics\",\n",
    "    explanation_style= \"Concise and to the point\",\n",
    "    maturity_level= \"Innovative and Futuristic\",\n",
    "    number_of_ideas= 2)\n",
    "\n",
    "response = chat_model.invoke(prompt)\n",
    "print(response.content)\n"
   ]
  },
  {
   "cell_type": "code",
   "execution_count": null,
   "id": "2c5347dc",
   "metadata": {},
   "outputs": [],
   "source": []
  }
 ],
 "metadata": {
  "kernelspec": {
   "display_name": ".venv",
   "language": "python",
   "name": "python3"
  },
  "language_info": {
   "codemirror_mode": {
    "name": "ipython",
    "version": 3
   },
   "file_extension": ".py",
   "mimetype": "text/x-python",
   "name": "python",
   "nbconvert_exporter": "python",
   "pygments_lexer": "ipython3",
   "version": "3.12.3"
  }
 },
 "nbformat": 4,
 "nbformat_minor": 5
}
